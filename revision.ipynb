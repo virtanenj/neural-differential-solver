{
 "cells": [
  {
   "cell_type": "code",
   "execution_count": 2,
   "metadata": {},
   "outputs": [],
   "source": [
    "import numpy as np\n",
    "import matplotlib.pyplot as plt\n",
    "import torch\n",
    "import torch.nn as nn\n",
    "import torch.optim as optim\n",
    "from torch.autograd import grad\n",
    "from torch.utils.data import DataLoader"
   ]
  },
  {
   "cell_type": "code",
   "execution_count": 21,
   "metadata": {},
   "outputs": [],
   "source": [
    "# Helper function to calculate higher order gradients\n",
    "def calcGradients(function, x, order):\n",
    "    y = function(x)\n",
    "    f_primes = torch.ones_like(x)  # unsqueeze(-1) to make float into tensor?\n",
    "    for order_i in range(order):\n",
    "        f_primes = torch.autograd.grad(outputs=y, inputs=x, grad_outputs=f_primes, create_graph=(order_i+1 < order))[0]\n",
    "        y = f_primes\n",
    "    return f_primes\n",
    "\n",
    "\n",
    "class DNN(nn.Module):\n",
    "    def __init__(self, input_shape, hidden_shapes, output_shape):\n",
    "        super(DNN, self).__init__()\n",
    "        # TODO modify this to be more flexible\n",
    "        self.model = nn.Sequential(\n",
    "            nn.Linear(input_shape, hidden_shapes[0]),\n",
    "            nn.Sigmoid(),\n",
    "            nn.Linear(hidden_shapes[0],hidden_shapes[1]),\n",
    "            nn.Sigmoid(),\n",
    "            nn.Linear(hidden_shapes[1],hidden_shapes[2]),\n",
    "            nn.Sigmoid(),\n",
    "            nn.Linear(hidden_shapes[2],output_shape)\n",
    "        )\n",
    "    \n",
    "    def forward(self, x):\n",
    "        return self.model(x)\n",
    "\n",
    "\n",
    "class LossFunction:\n",
    "    def __init__(self, differential_expressions, bc_grad_orders, bc_functions, boundaries):\n",
    "        # Differential expression term sum_i F(x_i,f(x_i),f'(x_i),...)^2\n",
    "        self.differential_expressions = differential_expressions  # function F(x_i,f(x_i),f'(x_i),...)\n",
    "        # Boundary condition term sum_i (grad^{p_i} f(x_{b_i})- K_i(x_{b_i}))^2\n",
    "        self.bc_grad_orders = bc_grad_orders    # list of integer p\n",
    "        self.bc_functions = bc_functions        # list of function K(x_b)\n",
    "        self.boundaries = boundaries            # list of tensors(!!!!!!!) of values x_b \n",
    "        for i, b in enumerate(boundaries):\n",
    "            self.boundaries[i] = torch.tensor([b], requires_grad=True).float()\n",
    "        self.problem_order = len(self.boundaries)  # integer of the differential equation order\n",
    "        assert self.problem_order == len(bc_functions) and self.problem_order == len(self.bc_grad_orders)\n",
    "\n",
    "    def _calcBC(self, model):\n",
    "        # Calculates the boundary condition term\n",
    "        # sum_i (grad^{p_i} f(x_{b_i})- K_i(x_{b_i}))^2\n",
    "\n",
    "        # bc_orders is list if integer values\n",
    "        # bc_functions is list of functions\n",
    "        # boundaries is list of values\n",
    "\n",
    "        bc_term = 0.0\n",
    "        for i in range(self.problem_order):\n",
    "            bc_term += (calcGradients(model, self.boundaries[i], self.bc_grad_orders[i]) - self.bc_functions[i](self.boundaries[i]))**2\n",
    "    \n",
    "        # # Alternative implementation??\n",
    "        # # Convert lists to tensors\n",
    "        # bc_grad_orders = torch.tensor(self.bc_grad_orders)\n",
    "        # boundaries = torch.stack(self.boundaries)\n",
    "        # \n",
    "        # # Calculate gradients\n",
    "        # gradients = [calcGradients(model, boundary, order) for boundary, order in zip(boundaries, bc_grad_orders)]\n",
    "        # gradients = torch.stack(gradients)\n",
    "        # \n",
    "        # # Calculate boundary condition functions\n",
    "        # bc_values = [bc_function(boundary) for bc_function, boundary in zip(self.bc_functions, boundaries)]\n",
    "        # bc_values = torch.stack(bc_values)\n",
    "        # \n",
    "        # # Calculate boundary condition term\n",
    "        # bc_term = (gradients - bc_values).square().sum()\n",
    "\n",
    "        return bc_term\n",
    "        \n",
    "    def __call__(self, model, x_data):\n",
    "        # (sum_i F(x_i,f(x_i),f'(x_i),...))^2 + BC_term\n",
    "        # QUESTION do you calculate boundary condition everytime even with smaller batches?\n",
    "        # QUESTION shuold you remove the boundary values from x_data?\n",
    "        # NB works only for single differential expression, i.e. not for many coupled expressions\n",
    "        # TODO have `differential_expressions` be list of the given differential expressions and calculate sum\n",
    "        # similarly as in the boundary condition case.\n",
    "        # NB x_data shold have `requires_grad=True`\n",
    "        x_max = x_data.shape[0]\n",
    "        F_term = self.differential_expressions(model, x_data).square().sum() / x_max\n",
    "        BC_term = self._calcBC(model)\n",
    "        return F_term + BC_term\n",
    "\n",
    "\n",
    "\n",
    "def training(model, loss_fn, dataloader, num_epochs, learning_rate):\n",
    "    # Possible parameters for Adam: ...\n",
    "    optimizer = optim.Adam(model.parameters(), lr=learning_rate)\n",
    "\n",
    "    loss_history = []\n",
    "\n",
    "    # Initial loss value\n",
    "    model.eval()\n",
    "    init_loss = 0.0\n",
    "    for i, x in enumerate(dataloader):\n",
    "        x = x.unsqueeze(-1)\n",
    "        init_loss += loss_fn(model, x).item()\n",
    "    print(\"Initial loss: {:.4f}\".format(init_loss))\n",
    "\n",
    "    model.train()\n",
    "    for epoch_i in range(num_epochs):\n",
    "        # model.train()  # NB train is default. Can also set model.eval()\n",
    "        running_loss = 0.0\n",
    "        for batch_i, x in enumerate(dataloader):\n",
    "            x = x.unsqueeze(-1)\n",
    "            optimizer.zero_grad()\n",
    "\n",
    "            # Forward pass (loss function only requires model and x)\n",
    "            # y = model(x)\n",
    "\n",
    "            # Backward pass\n",
    "            loss = loss_fn(model, x)\n",
    "            loss.backward()\n",
    "            optimizer.step()\n",
    "\n",
    "            running_loss += loss.item()\n",
    "\n",
    "        loss_history.append(running_loss)\n",
    "        print(\"Epoch {}/{} Loss: {:.4f}\". format(epoch_i+1, num_epochs, running_loss))\n",
    "\n",
    "    return loss_history\n",
    "\n",
    "\n"
   ]
  },
  {
   "cell_type": "code",
   "execution_count": 22,
   "metadata": {},
   "outputs": [
    {
     "data": {
      "image/png": "[encoded data removed]",
      "text/plain": [
       "<Figure size 432x288 with 1 Axes>"
      ]
     },
     "metadata": {
      "needs_background": "light"
     },
     "output_type": "display_data"
    },
    {
     "data": {
      "image/png": "[encoded data removed]",
      "text/plain": [
       "<Figure size 432x288 with 1 Axes>"
      ]
     },
     "metadata": {
      "needs_background": "light"
     },
     "output_type": "display_data"
    }
   ],
   "source": [
    "# Example f'(x) - x - 1 = 0, with e.g. f(0) = 0, on domain x in [0,infty)\n",
    "# Solution f(x) = x^2/2 + x + c, where f(0) = c = 0\n",
    "def equation1(f, x):\n",
    "    assert isinstance(x, torch.Tensor), \"x must be a Pytorch tensor\"\n",
    "    assert x.requires_grad, \"x must have `requires_grad=True`\"\n",
    "    y = f(x)\n",
    "    f_prime = grad(outputs=y, inputs=x, grad_outputs=torch.ones_like(x))[0]\n",
    "    return f_prime - x - 1\n",
    "\n",
    "\n",
    "def bc_equation1(x):\n",
    "    return 0.0\n",
    "\n",
    "p_test = 0\n",
    "\n",
    "x_b = 0.0\n",
    "\n",
    "loss_fn_test = LossFunction(equation1, [p_test], [bc_equation1], [x_b])\n",
    "\n",
    "\n",
    "def f_analytic(x):\n",
    "    return x**2 * 0.5 + x\n",
    "\n",
    "\n",
    "def f_dummy(x):\n",
    "    return x**2\n",
    "\n",
    "\n",
    "x_test = torch.linspace(-5, 5, 100, requires_grad=True)\n",
    "y_test = equation1(f_analytic, x_test)\n",
    "\n",
    "plt.plot(x_test.detach(), y_test.detach())\n",
    "plt.show()\n",
    "\n",
    "plt.plot(np.linspace(0,4,100), f_analytic(np.linspace(0,10,100)))\n",
    "plt.show()\n",
    "\n"
   ]
  },
  {
   "cell_type": "code",
   "execution_count": 23,
   "metadata": {},
   "outputs": [
    {
     "name": "stdout",
     "output_type": "stream",
     "text": [
      "Initial loss: 3.3165\n"
     ]
    },
    {
     "ename": "TypeError",
     "evalue": "'Tensor' object is not callable",
     "output_type": "error",
     "traceback": [
      "\u001b[0;31m---------------------------------------------------------------------------\u001b[0m",
      "\u001b[0;31mTypeError\u001b[0m                                 Traceback (most recent call last)",
      "\u001b[0;32m/tmp/ipykernel_45012/1408912693.py\u001b[0m in \u001b[0;36m<module>\u001b[0;34m\u001b[0m\n\u001b[1;32m     14\u001b[0m \u001b[0mnum_epochs\u001b[0m \u001b[0;34m=\u001b[0m \u001b[0;36m1000\u001b[0m\u001b[0;34m\u001b[0m\u001b[0;34m\u001b[0m\u001b[0m\n\u001b[1;32m     15\u001b[0m \u001b[0mlearning_rate\u001b[0m \u001b[0;34m=\u001b[0m \u001b[0;36m0.001\u001b[0m\u001b[0;34m\u001b[0m\u001b[0;34m\u001b[0m\u001b[0m\n\u001b[0;32m---> 16\u001b[0;31m \u001b[0mtraining\u001b[0m\u001b[0;34m(\u001b[0m\u001b[0mmodel\u001b[0m\u001b[0;34m,\u001b[0m \u001b[0mloss_fn_test\u001b[0m\u001b[0;34m,\u001b[0m \u001b[0mdataloader_test\u001b[0m\u001b[0;34m,\u001b[0m \u001b[0mnum_epochs\u001b[0m\u001b[0;34m=\u001b[0m\u001b[0mnum_epochs\u001b[0m\u001b[0;34m,\u001b[0m \u001b[0mlearning_rate\u001b[0m\u001b[0;34m=\u001b[0m\u001b[0mlearning_rate\u001b[0m\u001b[0;34m)\u001b[0m\u001b[0;34m\u001b[0m\u001b[0;34m\u001b[0m\u001b[0m\n\u001b[0m\u001b[1;32m     17\u001b[0m \u001b[0;34m\u001b[0m\u001b[0m\n\u001b[1;32m     18\u001b[0m \u001b[0;31m# Visual evaluation\u001b[0m\u001b[0;34m\u001b[0m\u001b[0;34m\u001b[0m\u001b[0m\n",
      "\u001b[0;32m/tmp/ipykernel_45012/605786998.py\u001b[0m in \u001b[0;36mtraining\u001b[0;34m(model, loss_fn, dataloader, num_epochs, learning_rate)\u001b[0m\n\u001b[1;32m    111\u001b[0m \u001b[0;34m\u001b[0m\u001b[0m\n\u001b[1;32m    112\u001b[0m             \u001b[0;31m# Backward pass\u001b[0m\u001b[0;34m\u001b[0m\u001b[0;34m\u001b[0m\u001b[0m\n\u001b[0;32m--> 113\u001b[0;31m             \u001b[0mloss\u001b[0m \u001b[0;34m=\u001b[0m \u001b[0mloss_fn\u001b[0m\u001b[0;34m(\u001b[0m\u001b[0my\u001b[0m\u001b[0;34m,\u001b[0m \u001b[0mx\u001b[0m\u001b[0;34m)\u001b[0m\u001b[0;34m\u001b[0m\u001b[0;34m\u001b[0m\u001b[0m\n\u001b[0m\u001b[1;32m    114\u001b[0m             \u001b[0mloss\u001b[0m\u001b[0;34m.\u001b[0m\u001b[0mbackward\u001b[0m\u001b[0;34m(\u001b[0m\u001b[0;34m)\u001b[0m\u001b[0;34m\u001b[0m\u001b[0;34m\u001b[0m\u001b[0m\n\u001b[1;32m    115\u001b[0m             \u001b[0moptimizer\u001b[0m\u001b[0;34m.\u001b[0m\u001b[0mstep\u001b[0m\u001b[0;34m(\u001b[0m\u001b[0;34m)\u001b[0m\u001b[0;34m\u001b[0m\u001b[0;34m\u001b[0m\u001b[0m\n",
      "\u001b[0;32m/tmp/ipykernel_45012/605786998.py\u001b[0m in \u001b[0;36m__call__\u001b[0;34m(self, model, x_data)\u001b[0m\n\u001b[1;32m     79\u001b[0m         \u001b[0;31m# NB x_data shold have `requires_grad=True`\u001b[0m\u001b[0;34m\u001b[0m\u001b[0;34m\u001b[0m\u001b[0m\n\u001b[1;32m     80\u001b[0m         \u001b[0mx_max\u001b[0m \u001b[0;34m=\u001b[0m \u001b[0mx_data\u001b[0m\u001b[0;34m.\u001b[0m\u001b[0mshape\u001b[0m\u001b[0;34m[\u001b[0m\u001b[0;36m0\u001b[0m\u001b[0;34m]\u001b[0m\u001b[0;34m\u001b[0m\u001b[0;34m\u001b[0m\u001b[0m\n\u001b[0;32m---> 81\u001b[0;31m         \u001b[0mF_term\u001b[0m \u001b[0;34m=\u001b[0m \u001b[0mself\u001b[0m\u001b[0;34m.\u001b[0m\u001b[0mdifferential_expressions\u001b[0m\u001b[0;34m(\u001b[0m\u001b[0mmodel\u001b[0m\u001b[0;34m,\u001b[0m \u001b[0mx_data\u001b[0m\u001b[0;34m)\u001b[0m\u001b[0;34m.\u001b[0m\u001b[0msquare\u001b[0m\u001b[0;34m(\u001b[0m\u001b[0;34m)\u001b[0m\u001b[0;34m.\u001b[0m\u001b[0msum\u001b[0m\u001b[0;34m(\u001b[0m\u001b[0;34m)\u001b[0m \u001b[0;34m/\u001b[0m \u001b[0mx_max\u001b[0m\u001b[0;34m\u001b[0m\u001b[0;34m\u001b[0m\u001b[0m\n\u001b[0m\u001b[1;32m     82\u001b[0m         \u001b[0mBC_term\u001b[0m \u001b[0;34m=\u001b[0m \u001b[0mself\u001b[0m\u001b[0;34m.\u001b[0m\u001b[0m_calcBC\u001b[0m\u001b[0;34m(\u001b[0m\u001b[0mmodel\u001b[0m\u001b[0;34m)\u001b[0m\u001b[0;34m\u001b[0m\u001b[0;34m\u001b[0m\u001b[0m\n\u001b[1;32m     83\u001b[0m         \u001b[0;32mreturn\u001b[0m \u001b[0mF_term\u001b[0m \u001b[0;34m+\u001b[0m \u001b[0mBC_term\u001b[0m\u001b[0;34m\u001b[0m\u001b[0;34m\u001b[0m\u001b[0m\n",
      "\u001b[0;32m/tmp/ipykernel_45012/1100812056.py\u001b[0m in \u001b[0;36mequation1\u001b[0;34m(f, x)\u001b[0m\n\u001b[1;32m      4\u001b[0m     \u001b[0;32massert\u001b[0m \u001b[0misinstance\u001b[0m\u001b[0;34m(\u001b[0m\u001b[0mx\u001b[0m\u001b[0;34m,\u001b[0m \u001b[0mtorch\u001b[0m\u001b[0;34m.\u001b[0m\u001b[0mTensor\u001b[0m\u001b[0;34m)\u001b[0m\u001b[0;34m,\u001b[0m \u001b[0;34m\"x must be a Pytorch tensor\"\u001b[0m\u001b[0;34m\u001b[0m\u001b[0;34m\u001b[0m\u001b[0m\n\u001b[1;32m      5\u001b[0m     \u001b[0;32massert\u001b[0m \u001b[0mx\u001b[0m\u001b[0;34m.\u001b[0m\u001b[0mrequires_grad\u001b[0m\u001b[0;34m,\u001b[0m \u001b[0;34m\"x must have `requires_grad=True`\"\u001b[0m\u001b[0;34m\u001b[0m\u001b[0;34m\u001b[0m\u001b[0m\n\u001b[0;32m----> 6\u001b[0;31m     \u001b[0my\u001b[0m \u001b[0;34m=\u001b[0m \u001b[0mf\u001b[0m\u001b[0;34m(\u001b[0m\u001b[0mx\u001b[0m\u001b[0;34m)\u001b[0m\u001b[0;34m\u001b[0m\u001b[0;34m\u001b[0m\u001b[0m\n\u001b[0m\u001b[1;32m      7\u001b[0m     \u001b[0mf_prime\u001b[0m \u001b[0;34m=\u001b[0m \u001b[0mgrad\u001b[0m\u001b[0;34m(\u001b[0m\u001b[0moutputs\u001b[0m\u001b[0;34m=\u001b[0m\u001b[0my\u001b[0m\u001b[0;34m,\u001b[0m \u001b[0minputs\u001b[0m\u001b[0;34m=\u001b[0m\u001b[0mx\u001b[0m\u001b[0;34m,\u001b[0m \u001b[0mgrad_outputs\u001b[0m\u001b[0;34m=\u001b[0m\u001b[0mtorch\u001b[0m\u001b[0;34m.\u001b[0m\u001b[0mones_like\u001b[0m\u001b[0;34m(\u001b[0m\u001b[0mx\u001b[0m\u001b[0;34m)\u001b[0m\u001b[0;34m)\u001b[0m\u001b[0;34m[\u001b[0m\u001b[0;36m0\u001b[0m\u001b[0;34m]\u001b[0m\u001b[0;34m\u001b[0m\u001b[0;34m\u001b[0m\u001b[0m\n\u001b[1;32m      8\u001b[0m     \u001b[0;32mreturn\u001b[0m \u001b[0mf_prime\u001b[0m \u001b[0;34m-\u001b[0m \u001b[0mx\u001b[0m \u001b[0;34m-\u001b[0m \u001b[0;36m1\u001b[0m\u001b[0;34m\u001b[0m\u001b[0;34m\u001b[0m\u001b[0m\n",
      "\u001b[0;31mTypeError\u001b[0m: 'Tensor' object is not callable"
     ]
    }
   ],
   "source": [
    "# Domain discretization\n",
    "discretization_delta = 0.01\n",
    "x = np.arange(0, 1, discretization_delta)\n",
    "\n",
    "# Define dataloader\n",
    "x_tensor = torch.from_numpy(x).float().requires_grad_(True)\n",
    "dataloader_test = DataLoader(x_tensor, batch_size=1000, shuffle=True)\n",
    "\n",
    "# Define model\n",
    "hidden_shapes=[200,50,10]\n",
    "model = DNN(1, hidden_shapes, 1)\n",
    "\n",
    "# Training parameters\n",
    "num_epochs = 1000\n",
    "learning_rate = 0.001\n",
    "training(model, loss_fn_test, dataloader_test, num_epochs=num_epochs, learning_rate=learning_rate)\n",
    "\n",
    "# Visual evaluation\n",
    "model.eval()\n",
    "x_eval = np.linspace(0,1,100)\n",
    "y_analytic = f_analytic(x_eval)\n",
    "x_eval_tensor = torch.from_numpy(x_eval).float().unsqueeze(-1)\n",
    "y_model = model(x_eval_tensor).detach().flatten().numpy()\n",
    "\n",
    "plt.plot(x_eval, y_analytic, label=\"analytic\")\n",
    "plt.plot(x_eval, y_model, label=\"model\")\n",
    "plt.legend()\n",
    "plt.show()"
   ]
  },
  {
   "cell_type": "code",
   "execution_count": 12,
   "metadata": {},
   "outputs": [
    {
     "data": {
      "text/plain": [
       "DNN(\n",
       "  (model): Sequential(\n",
       "    (0): Linear(in_features=1, out_features=10, bias=True)\n",
       "    (1): Sigmoid()\n",
       "    (2): Linear(in_features=10, out_features=10, bias=True)\n",
       "    (3): Sigmoid()\n",
       "    (4): Linear(in_features=10, out_features=5, bias=True)\n",
       "    (5): Sigmoid()\n",
       "    (6): Linear(in_features=5, out_features=1, bias=True)\n",
       "  )\n",
       ")"
      ]
     },
     "execution_count": 12,
     "metadata": {},
     "output_type": "execute_result"
    }
   ],
   "source": [
    "model"
   ]
  },
  {
   "cell_type": "code",
   "execution_count": null,
   "metadata": {},
   "outputs": [],
   "source": []
  }
 ],
 "metadata": {
  "kernelspec": {
   "display_name": "Python 3",
   "language": "python",
   "name": "python3"
  },
  "language_info": {
   "codemirror_mode": {
    "name": "ipython",
    "version": 3
   },
   "file_extension": ".py",
   "mimetype": "text/x-python",
   "name": "python",
   "nbconvert_exporter": "python",
   "pygments_lexer": "ipython3",
   "version": "3.10.12"
  }
 },
 "nbformat": 4,
 "nbformat_minor": 2
}
