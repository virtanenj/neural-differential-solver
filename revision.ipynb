{
 "cells": [
  {
   "cell_type": "code",
   "execution_count": 1,
   "metadata": {},
   "outputs": [],
   "source": [
    "import numpy as np\n",
    "import matplotlib.pyplot as plt\n",
    "import torch\n",
    "import torch.nn as nn\n",
    "import torch.optim as optim\n",
    "from torch.autograd import grad"
   ]
  },
  {
   "cell_type": "code",
   "execution_count": 18,
   "metadata": {},
   "outputs": [],
   "source": [
    "\n",
    "class DNN(nn.Module):\n",
    "    def __init__(self, input_dim, hidden_shapes, output_dim):\n",
    "        self.model = nn.Sequential(\n",
    "            nn.Linear(input_dim, 100),\n",
    "            nn.ReLU(),\n",
    "            nn.Linear(100,100),\n",
    "            nn.ReLU(),\n",
    "            nn.Linear(100,output_dim)\n",
    "        )\n",
    "    \n",
    "    def forward(self, x):\n",
    "        return self.model(x)\n",
    "\n",
    "\n",
    "class LossFunction:\n",
    "    def __init__(self, differential_expressions, bc_orders, bc_functions, boundaries, boundary_conditions):\n",
    "        # Differential expression term F(x,f(x),f'(x),...)\n",
    "        self.differential_expressions = differential_expressions\n",
    "        # Boundary condition term sum_i (grad^{p_i} f(x_{b_i})- K_i(x_{b_i}))^2\n",
    "        self.bc_orders = bc_orders  # integer p\n",
    "        self.bc_functions = bc_functions  # function K(x_b)\n",
    "        self.boundaries = boundaries  # values x_b\n",
    "    \n",
    "    def _calcBC(self, model):\n",
    "        # Just calculates result for all boundaries\n",
    "\n",
    "        # bc_orders is list if integer values\n",
    "        # bc_functions is list of functions\n",
    "        # boundaries is list of values\n",
    "\n",
    "        # NB does not currently calculate any derivatives\n",
    "        return (model(self.boundaries) - self.bc_functions(self.boundaries)).square().sum()\n",
    "        \n",
    "    \n",
    "    def __call__(self, model, x_data):\n",
    "        # (sum_i F(x_i,f(x_i),f'(x_i),...))^2\n",
    "        # QUESTION do you calculate boundary condition everytime even with smaller batches?\n",
    "        # QUESTION shuold you remove the boundary values from x_data?\n",
    "        x_max = x_data.shape[0]\n",
    "        return self.differential_expressions(model, x_data).square().sum() / x_max + self._calcBC(model)\n",
    "\n",
    "\n",
    "\n",
    "\n",
    "def training(model, loss_fn, dataloader, num_epochs, learning_rate):\n",
    "    # Possible parameters for Adam: ...\n",
    "    optimizer = optim.Adam(model.parameters(), lr=learning_rate)\n",
    "\n",
    "    loss_history = []\n",
    "    for epoch_i in range(num_epochs):\n",
    "        # model.train()  # NB train is default. Can also set model.eval()\n",
    "        running_loss = 0.0\n",
    "        for batch_i, data in enumerate(dataloader):\n",
    "            x, _ = data\n",
    "\n",
    "            optimizer.zero_grad()\n",
    "\n",
    "            # Forward pass (not actually needed here?)\n",
    "            # y = model(x)\n",
    "\n",
    "            # Backward pass\n",
    "            loss = loss_fn(model, x)\n",
    "            loss.backward()\n",
    "            optimizer.step()\n",
    "\n",
    "            running_loss += loss.item()\n",
    "\n",
    "        loss_history.append(running_loss)\n",
    "        print(\"Epoch {}/{} Loss: {:.4f}\". format(epoch_i+1, num_epochs, running_loss))\n",
    "\n",
    "    return loss_history\n",
    "\n",
    "\n"
   ]
  },
  {
   "cell_type": "code",
   "execution_count": 16,
   "metadata": {},
   "outputs": [
    {
     "data": {
      "image/png": "[encoded data removed]",
      "text/plain": [
       "<Figure size 432x288 with 1 Axes>"
      ]
     },
     "metadata": {
      "needs_background": "light"
     },
     "output_type": "display_data"
    }
   ],
   "source": [
    "# Example f'(x) - x - 1 = 0\n",
    "# Solution f(x) = x^2/2 + x + c, c is determined by boundary conditions\n",
    "def equation1(f, x):\n",
    "    assert isinstance(x, torch.Tensor), \"x must be a Pytorch tensor\"\n",
    "    assert x.requires_grad, \"x must have `requires_grad=True`\"\n",
    "    y = f(x)\n",
    "    f_prime = grad(outputs=y, inputs=x, grad_outputs=torch.ones_like(x))[0]\n",
    "    return f_prime - x - 1\n",
    "\n",
    "\n",
    "def f_test(x):\n",
    "    return x**2 * 0.5 + x\n",
    "\n",
    "\n",
    "def model_dummy(x):\n",
    "    return x**2\n",
    "\n",
    "\n",
    "x_test = torch.linspace(-5, 5, 100, requires_grad=True)\n",
    "# x_test = torch.tensor(0.4, requires_grad=True)\n",
    "\n",
    "y_test = equation1(f_test, x_test)\n",
    "\n",
    "\n",
    "plt.plot(x_test.detach(), y_test.detach())\n",
    "plt.show()"
   ]
  },
  {
   "cell_type": "code",
   "execution_count": 19,
   "metadata": {},
   "outputs": [
    {
     "name": "stdout",
     "output_type": "stream",
     "text": [
      "tensor([-6.0000, -5.8990, -5.7980, -5.6970, -5.5960, -5.4949, -5.3939, -5.2929,\n",
      "        -5.1919, -5.0909, -4.9899, -4.8889, -4.7879, -4.6869, -4.5859, -4.4848,\n",
      "        -4.3838, -4.2828, -4.1818, -4.0808, -3.9798, -3.8788, -3.7778, -3.6768,\n",
      "        -3.5758, -3.4747, -3.3737, -3.2727, -3.1717, -3.0707, -2.9697, -2.8687,\n",
      "        -2.7677, -2.6667, -2.5657, -2.4646, -2.3636, -2.2626, -2.1616, -2.0606,\n",
      "        -1.9596, -1.8586, -1.7576, -1.6566, -1.5556, -1.4545, -1.3535, -1.2525,\n",
      "        -1.1515, -1.0505, -0.9495, -0.8485, -0.7475, -0.6465, -0.5455, -0.4444,\n",
      "        -0.3434, -0.2424, -0.1414, -0.0404,  0.0606,  0.1616,  0.2626,  0.3636,\n",
      "         0.4646,  0.5657,  0.6667,  0.7677,  0.8687,  0.9697,  1.0707,  1.1717,\n",
      "         1.2727,  1.3737,  1.4747,  1.5758,  1.6768,  1.7778,  1.8788,  1.9798,\n",
      "         2.0808,  2.1818,  2.2828,  2.3838,  2.4848,  2.5859,  2.6869,  2.7879,\n",
      "         2.8889,  2.9899,  3.0909,  3.1919,  3.2929,  3.3939,  3.4949,  3.5960,\n",
      "         3.6970,  3.7980,  3.8990,  4.0000], grad_fn=<SubBackward0>)\n",
      "tensor(-100.0000, grad_fn=<SumBackward0>)\n"
     ]
    }
   ],
   "source": [
    "mylossfn = LossFunction(equation1, None)\n",
    "mylossfn(model_dummy, x_test)"
   ]
  },
  {
   "cell_type": "code",
   "execution_count": null,
   "metadata": {},
   "outputs": [],
   "source": []
  }
 ],
 "metadata": {
  "kernelspec": {
   "display_name": "Python 3",
   "language": "python",
   "name": "python3"
  },
  "language_info": {
   "codemirror_mode": {
    "name": "ipython",
    "version": 3
   },
   "file_extension": ".py",
   "mimetype": "text/x-python",
   "name": "python",
   "nbconvert_exporter": "python",
   "pygments_lexer": "ipython3",
   "version": "3.10.12"
  }
 },
 "nbformat": 4,
 "nbformat_minor": 2
}
