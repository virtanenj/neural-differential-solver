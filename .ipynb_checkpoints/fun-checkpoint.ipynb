{
 "cells": [
  {
   "cell_type": "code",
   "execution_count": 6,
   "metadata": {},
   "outputs": [],
   "source": [
    "import numpy as np\n",
    "import matplotlib.pyplot as plt\n",
    "import torch"
   ]
  },
  {
   "cell_type": "code",
   "execution_count": 8,
   "metadata": {},
   "outputs": [],
   "source": [
    "from ax.service.ax_client import AxClient, ObjectiveProperties"
   ]
  },
  {
   "cell_type": "code",
   "execution_count": 26,
   "metadata": {},
   "outputs": [
    {
     "name": "stderr",
     "output_type": "stream",
     "text": [
      "[INFO 06-17 13:19:25] ax.service.ax_client: Starting optimization with verbose logging. To disable logging, set the `verbose_logging` argument to `False`. Note that float values in the logs are rounded to 6 decimal points.\n",
      "[INFO 06-17 13:19:25] ax.service.utils.instantiation: Inferred value type of ParameterType.FLOAT for parameter momentum. If that is not the expected value type, you can explicitly specify 'value_type' ('int', 'float', 'bool' or 'str') in parameter dict.\n",
      "[INFO 06-17 13:19:25] ax.service.utils.instantiation: Created search space: SearchSpace(parameters=[RangeParameter(name='lr', parameter_type=FLOAT, range=[1e-06, 0.4], log_scale=True), RangeParameter(name='momentum', parameter_type=FLOAT, range=[0.0, 1.0])], parameter_constraints=[]).\n",
      "[INFO 06-17 13:19:25] ax.modelbridge.dispatch_utils: Using Models.BOTORCH_MODULAR since there is at least one ordered parameter and there are no unordered categorical parameters.\n",
      "[INFO 06-17 13:19:25] ax.modelbridge.dispatch_utils: Calculating the number of remaining initialization trials based on num_initialization_trials=None max_initialization_trials=None num_tunable_parameters=2 num_trials=None use_batch_trials=False\n",
      "[INFO 06-17 13:19:25] ax.modelbridge.dispatch_utils: calculated num_initialization_trials=5\n",
      "[INFO 06-17 13:19:25] ax.modelbridge.dispatch_utils: num_completed_initialization_trials=0 num_remaining_initialization_trials=5\n",
      "[INFO 06-17 13:19:25] ax.modelbridge.dispatch_utils: `verbose`, `disable_progbar`, and `jit_compile` are not yet supported when using `choose_generation_strategy` with ModularBoTorchModel, dropping these arguments.\n",
      "[INFO 06-17 13:19:25] ax.modelbridge.dispatch_utils: Using Bayesian Optimization generation strategy: GenerationStrategy(name='Sobol+BoTorch', steps=[Sobol for 5 trials, BoTorch for subsequent trials]). Iterations after 5 will take longer to generate due to model-fitting.\n"
     ]
    }
   ],
   "source": [
    "ax_client = AxClient()\n",
    "\n",
    "ax_client.create_experiment(\n",
    "    name=\"tune_differential_solver_test\",\n",
    "    parameters=[\n",
    "        {\n",
    "            \"name\": \"lr\",\n",
    "            \"type\": \"range\",\n",
    "            \"bounds\": [1e-6, 0.4],\n",
    "            \"value_type\": \"float\",\n",
    "            \"log_scale\": True,\n",
    "        },\n",
    "        {\n",
    "            \"name\": \"momentum\",  \n",
    "            \"type\": \"range\",  \n",
    "            \"bounds\": [0.0, 1.0],  \n",
    "        },\n",
    "    ],\n",
    "    objectives={\"evaluate_func\": ObjectiveProperties(minimize=True)},  # The objective name and minimization setting.\n",
    ")\n",
    "\n",
    "def evaluate_func(parameterization):\n",
    "    for i, p in enumerate(parameterization):\n",
    "        print(\"parameter num {} is parameter {} with value {}\".format(i+1, p, parameterization[p]))\n",
    "    # print(\"lr is\", parameterization[\"lr\"])\n",
    "    evaluation = np.random.random()\n",
    "    print(\"Evaluation is {}\".format(evaluation))\n",
    "    return evaluation\n",
    "    "
   ]
  },
  {
   "cell_type": "code",
   "execution_count": 28,
   "metadata": {},
   "outputs": [
    {
     "name": "stderr",
     "output_type": "stream",
     "text": [
      "[INFO 06-17 13:20:11] ax.modelbridge.base: Untransformed parameter 0.40000000000000013 greater than upper bound 0.4, clamping\n",
      "[INFO 06-17 13:20:11] ax.service.ax_client: Generated new trial 25 with parameters {'lr': 0.4, 'momentum': 0.279016} using model BoTorch.\n",
      "[INFO 06-17 13:20:11] ax.service.ax_client: Completed trial 25 with data: {'evaluate_func': (0.620077, None)}.\n"
     ]
    },
    {
     "name": "stdout",
     "output_type": "stream",
     "text": [
      "parameter num 1 is parameter lr with value 0.4\n",
      "parameter num 2 is parameter momentum with value 0.2790155099351555\n",
      "Evaluation is 0.6200772780895838\n"
     ]
    },
    {
     "name": "stderr",
     "output_type": "stream",
     "text": [
      "[INFO 06-17 13:20:11] ax.service.ax_client: Generated new trial 26 with parameters {'lr': 2.1e-05, 'momentum': 0.116545} using model BoTorch.\n",
      "[INFO 06-17 13:20:11] ax.service.ax_client: Completed trial 26 with data: {'evaluate_func': (0.629295, None)}.\n"
     ]
    },
    {
     "name": "stdout",
     "output_type": "stream",
     "text": [
      "parameter num 1 is parameter lr with value 2.1340873161144234e-05\n",
      "parameter num 2 is parameter momentum with value 0.11654511569491185\n",
      "Evaluation is 0.6292949648705477\n"
     ]
    },
    {
     "name": "stderr",
     "output_type": "stream",
     "text": [
      "[INFO 06-17 13:20:12] ax.service.ax_client: Generated new trial 27 with parameters {'lr': 0.004546, 'momentum': 0.0} using model BoTorch.\n",
      "[INFO 06-17 13:20:12] ax.service.ax_client: Completed trial 27 with data: {'evaluate_func': (0.718528, None)}.\n"
     ]
    },
    {
     "name": "stdout",
     "output_type": "stream",
     "text": [
      "parameter num 1 is parameter lr with value 0.0045457650068815875\n",
      "parameter num 2 is parameter momentum with value 0.0\n",
      "Evaluation is 0.7185278966483483\n"
     ]
    },
    {
     "name": "stderr",
     "output_type": "stream",
     "text": [
      "[INFO 06-17 13:20:13] ax.service.ax_client: Generated new trial 28 with parameters {'lr': 1e-06, 'momentum': 0.880695} using model BoTorch.\n",
      "[INFO 06-17 13:20:13] ax.service.ax_client: Completed trial 28 with data: {'evaluate_func': (0.846285, None)}.\n"
     ]
    },
    {
     "name": "stdout",
     "output_type": "stream",
     "text": [
      "parameter num 1 is parameter lr with value 1e-06\n",
      "parameter num 2 is parameter momentum with value 0.8806951156899886\n",
      "Evaluation is 0.8462847119220562\n"
     ]
    },
    {
     "name": "stderr",
     "output_type": "stream",
     "text": [
      "[INFO 06-17 13:20:14] ax.modelbridge.base: Untransformed parameter 0.40000000000000013 greater than upper bound 0.4, clamping\n",
      "[INFO 06-17 13:20:14] ax.service.ax_client: Generated new trial 29 with parameters {'lr': 0.4, 'momentum': 0.634549} using model BoTorch.\n",
      "[INFO 06-17 13:20:14] ax.service.ax_client: Completed trial 29 with data: {'evaluate_func': (0.887617, None)}.\n"
     ]
    },
    {
     "name": "stdout",
     "output_type": "stream",
     "text": [
      "parameter num 1 is parameter lr with value 0.4\n",
      "parameter num 2 is parameter momentum with value 0.6345492477009436\n",
      "Evaluation is 0.8876165369408829\n"
     ]
    },
    {
     "name": "stderr",
     "output_type": "stream",
     "text": [
      "[INFO 06-17 13:20:15] ax.service.ax_client: Generated new trial 30 with parameters {'lr': 1e-06, 'momentum': 0.271517} using model BoTorch.\n",
      "[INFO 06-17 13:20:15] ax.service.ax_client: Completed trial 30 with data: {'evaluate_func': (0.786293, None)}.\n"
     ]
    },
    {
     "name": "stdout",
     "output_type": "stream",
     "text": [
      "parameter num 1 is parameter lr with value 1e-06\n",
      "parameter num 2 is parameter momentum with value 0.2715174123077603\n",
      "Evaluation is 0.7862931727495253\n"
     ]
    },
    {
     "name": "stderr",
     "output_type": "stream",
     "text": [
      "[INFO 06-17 13:20:16] ax.service.ax_client: Generated new trial 31 with parameters {'lr': 4e-06, 'momentum': 0.0} using model BoTorch.\n",
      "[INFO 06-17 13:20:16] ax.service.ax_client: Completed trial 31 with data: {'evaluate_func': (0.999656, None)}.\n"
     ]
    },
    {
     "name": "stdout",
     "output_type": "stream",
     "text": [
      "parameter num 1 is parameter lr with value 4.198223760675958e-06\n",
      "parameter num 2 is parameter momentum with value 0.0\n",
      "Evaluation is 0.9996558826806599\n"
     ]
    },
    {
     "name": "stderr",
     "output_type": "stream",
     "text": [
      "[INFO 06-17 13:20:17] ax.modelbridge.base: Untransformed parameter 0.40000000000000013 greater than upper bound 0.4, clamping\n",
      "[INFO 06-17 13:20:17] ax.service.ax_client: Generated new trial 32 with parameters {'lr': 0.4, 'momentum': 1.0} using model BoTorch.\n",
      "[INFO 06-17 13:20:17] ax.service.ax_client: Completed trial 32 with data: {'evaluate_func': (0.802456, None)}.\n"
     ]
    },
    {
     "name": "stdout",
     "output_type": "stream",
     "text": [
      "parameter num 1 is parameter lr with value 0.4\n",
      "parameter num 2 is parameter momentum with value 1.0\n",
      "Evaluation is 0.8024558819472178\n"
     ]
    },
    {
     "name": "stderr",
     "output_type": "stream",
     "text": [
      "[INFO 06-17 13:20:17] ax.service.ax_client: Generated new trial 33 with parameters {'lr': 0.004721, 'momentum': 0.210668} using model BoTorch.\n",
      "[INFO 06-17 13:20:17] ax.service.ax_client: Completed trial 33 with data: {'evaluate_func': (0.977148, None)}.\n"
     ]
    },
    {
     "name": "stdout",
     "output_type": "stream",
     "text": [
      "parameter num 1 is parameter lr with value 0.004721053458191271\n",
      "parameter num 2 is parameter momentum with value 0.2106678908078542\n",
      "Evaluation is 0.9771482512299621\n"
     ]
    },
    {
     "name": "stderr",
     "output_type": "stream",
     "text": [
      "[INFO 06-17 13:20:18] ax.service.ax_client: Generated new trial 34 with parameters {'lr': 7.6e-05, 'momentum': 0.675777} using model BoTorch.\n",
      "[INFO 06-17 13:20:18] ax.service.ax_client: Completed trial 34 with data: {'evaluate_func': (0.108649, None)}.\n"
     ]
    },
    {
     "name": "stdout",
     "output_type": "stream",
     "text": [
      "parameter num 1 is parameter lr with value 7.594107825133552e-05\n",
      "parameter num 2 is parameter momentum with value 0.6757765017970678\n",
      "Evaluation is 0.10864901240942504\n"
     ]
    },
    {
     "name": "stderr",
     "output_type": "stream",
     "text": [
      "[INFO 06-17 13:20:19] ax.service.ax_client: Generated new trial 35 with parameters {'lr': 0.001181, 'momentum': 0.822154} using model BoTorch.\n",
      "[INFO 06-17 13:20:19] ax.service.ax_client: Completed trial 35 with data: {'evaluate_func': (0.002643, None)}.\n"
     ]
    },
    {
     "name": "stdout",
     "output_type": "stream",
     "text": [
      "parameter num 1 is parameter lr with value 0.0011805525366301143\n",
      "parameter num 2 is parameter momentum with value 0.822153841140202\n",
      "Evaluation is 0.0026425320697636145\n"
     ]
    },
    {
     "name": "stderr",
     "output_type": "stream",
     "text": [
      "[INFO 06-17 13:20:20] ax.service.ax_client: Generated new trial 36 with parameters {'lr': 0.004156, 'momentum': 0.729449} using model BoTorch.\n",
      "[INFO 06-17 13:20:20] ax.service.ax_client: Completed trial 36 with data: {'evaluate_func': (0.452716, None)}.\n"
     ]
    },
    {
     "name": "stdout",
     "output_type": "stream",
     "text": [
      "parameter num 1 is parameter lr with value 0.004155630737354169\n",
      "parameter num 2 is parameter momentum with value 0.7294492745372162\n",
      "Evaluation is 0.45271595340692095\n"
     ]
    },
    {
     "name": "stderr",
     "output_type": "stream",
     "text": [
      "[INFO 06-17 13:20:21] ax.service.ax_client: Generated new trial 37 with parameters {'lr': 1e-06, 'momentum': 0.620213} using model BoTorch.\n",
      "[INFO 06-17 13:20:21] ax.service.ax_client: Completed trial 37 with data: {'evaluate_func': (0.432546, None)}.\n"
     ]
    },
    {
     "name": "stdout",
     "output_type": "stream",
     "text": [
      "parameter num 1 is parameter lr with value 1e-06\n",
      "parameter num 2 is parameter momentum with value 0.6202132583321907\n",
      "Evaluation is 0.4325460731517563\n"
     ]
    },
    {
     "name": "stderr",
     "output_type": "stream",
     "text": [
      "[INFO 06-17 13:20:22] ax.service.ax_client: Generated new trial 38 with parameters {'lr': 0.002283, 'momentum': 0.922264} using model BoTorch.\n",
      "[INFO 06-17 13:20:22] ax.service.ax_client: Completed trial 38 with data: {'evaluate_func': (0.656634, None)}.\n"
     ]
    },
    {
     "name": "stdout",
     "output_type": "stream",
     "text": [
      "parameter num 1 is parameter lr with value 0.002282564749641659\n",
      "parameter num 2 is parameter momentum with value 0.9222635470404053\n",
      "Evaluation is 0.6566338297954747\n"
     ]
    },
    {
     "name": "stderr",
     "output_type": "stream",
     "text": [
      "[INFO 06-17 13:20:23] ax.service.ax_client: Generated new trial 39 with parameters {'lr': 1.6e-05, 'momentum': 0.751844} using model BoTorch.\n",
      "[INFO 06-17 13:20:23] ax.service.ax_client: Completed trial 39 with data: {'evaluate_func': (0.952476, None)}.\n"
     ]
    },
    {
     "name": "stdout",
     "output_type": "stream",
     "text": [
      "parameter num 1 is parameter lr with value 1.611250533097457e-05\n",
      "parameter num 2 is parameter momentum with value 0.7518436355410749\n",
      "Evaluation is 0.9524756754403532\n"
     ]
    },
    {
     "name": "stderr",
     "output_type": "stream",
     "text": [
      "[INFO 06-17 13:20:24] ax.service.ax_client: Generated new trial 40 with parameters {'lr': 3.2e-05, 'momentum': 0.548925} using model BoTorch.\n",
      "[INFO 06-17 13:20:24] ax.service.ax_client: Completed trial 40 with data: {'evaluate_func': (0.891551, None)}.\n"
     ]
    },
    {
     "name": "stdout",
     "output_type": "stream",
     "text": [
      "parameter num 1 is parameter lr with value 3.1698749020403095e-05\n",
      "parameter num 2 is parameter momentum with value 0.5489250267204707\n",
      "Evaluation is 0.8915512737755691\n"
     ]
    },
    {
     "name": "stderr",
     "output_type": "stream",
     "text": [
      "[INFO 06-17 13:20:25] ax.service.ax_client: Generated new trial 41 with parameters {'lr': 0.000403, 'momentum': 1.0} using model BoTorch.\n",
      "[INFO 06-17 13:20:25] ax.service.ax_client: Completed trial 41 with data: {'evaluate_func': (0.718325, None)}.\n"
     ]
    },
    {
     "name": "stdout",
     "output_type": "stream",
     "text": [
      "parameter num 1 is parameter lr with value 0.0004033570555236134\n",
      "parameter num 2 is parameter momentum with value 1.0\n",
      "Evaluation is 0.7183245357937525\n"
     ]
    },
    {
     "name": "stderr",
     "output_type": "stream",
     "text": [
      "[INFO 06-17 13:20:26] ax.service.ax_client: Generated new trial 42 with parameters {'lr': 0.001162, 'momentum': 0.407946} using model BoTorch.\n",
      "[INFO 06-17 13:20:26] ax.service.ax_client: Completed trial 42 with data: {'evaluate_func': (0.388045, None)}.\n"
     ]
    },
    {
     "name": "stdout",
     "output_type": "stream",
     "text": [
      "parameter num 1 is parameter lr with value 0.0011619199217558322\n",
      "parameter num 2 is parameter momentum with value 0.40794634902300825\n",
      "Evaluation is 0.38804487017570055\n"
     ]
    },
    {
     "name": "stderr",
     "output_type": "stream",
     "text": [
      "[INFO 06-17 13:20:27] ax.service.ax_client: Generated new trial 43 with parameters {'lr': 0.007923, 'momentum': 0.597849} using model BoTorch.\n",
      "[INFO 06-17 13:20:27] ax.service.ax_client: Completed trial 43 with data: {'evaluate_func': (0.715529, None)}.\n"
     ]
    },
    {
     "name": "stdout",
     "output_type": "stream",
     "text": [
      "parameter num 1 is parameter lr with value 0.007922872845072882\n",
      "parameter num 2 is parameter momentum with value 0.597848513816868\n",
      "Evaluation is 0.7155285587370858\n"
     ]
    },
    {
     "name": "stderr",
     "output_type": "stream",
     "text": [
      "[INFO 06-17 13:20:28] ax.service.ax_client: Generated new trial 44 with parameters {'lr': 0.078019, 'momentum': 0.176916} using model BoTorch.\n",
      "[INFO 06-17 13:20:28] ax.service.ax_client: Completed trial 44 with data: {'evaluate_func': (0.377288, None)}.\n"
     ]
    },
    {
     "name": "stdout",
     "output_type": "stream",
     "text": [
      "parameter num 1 is parameter lr with value 0.07801930251025\n",
      "parameter num 2 is parameter momentum with value 0.17691642468182295\n",
      "Evaluation is 0.3772884158188766\n"
     ]
    },
    {
     "name": "stderr",
     "output_type": "stream",
     "text": [
      "[INFO 06-17 13:20:29] ax.service.ax_client: Generated new trial 45 with parameters {'lr': 0.034255, 'momentum': 0.302742} using model BoTorch.\n",
      "[INFO 06-17 13:20:29] ax.service.ax_client: Completed trial 45 with data: {'evaluate_func': (0.219526, None)}.\n"
     ]
    },
    {
     "name": "stdout",
     "output_type": "stream",
     "text": [
      "parameter num 1 is parameter lr with value 0.03425527621855945\n",
      "parameter num 2 is parameter momentum with value 0.3027418006061707\n",
      "Evaluation is 0.21952646440476997\n"
     ]
    },
    {
     "name": "stderr",
     "output_type": "stream",
     "text": [
      "[INFO 06-17 13:20:30] ax.service.ax_client: Generated new trial 46 with parameters {'lr': 0.012452, 'momentum': 0.459334} using model BoTorch.\n",
      "[INFO 06-17 13:20:30] ax.service.ax_client: Completed trial 46 with data: {'evaluate_func': (0.59614, None)}.\n"
     ]
    },
    {
     "name": "stdout",
     "output_type": "stream",
     "text": [
      "parameter num 1 is parameter lr with value 0.012451675873361663\n",
      "parameter num 2 is parameter momentum with value 0.4593339032222861\n",
      "Evaluation is 0.5961396900565088\n"
     ]
    },
    {
     "name": "stderr",
     "output_type": "stream",
     "text": [
      "[INFO 06-17 13:20:31] ax.service.ax_client: Generated new trial 47 with parameters {'lr': 0.000741, 'momentum': 0.712943} using model BoTorch.\n",
      "[INFO 06-17 13:20:31] ax.service.ax_client: Completed trial 47 with data: {'evaluate_func': (0.4514, None)}.\n"
     ]
    },
    {
     "name": "stdout",
     "output_type": "stream",
     "text": [
      "parameter num 1 is parameter lr with value 0.0007406761484642155\n",
      "parameter num 2 is parameter momentum with value 0.7129427769706951\n",
      "Evaluation is 0.45139952643372494\n"
     ]
    },
    {
     "name": "stderr",
     "output_type": "stream",
     "text": [
      "[INFO 06-17 13:20:32] ax.service.ax_client: Generated new trial 48 with parameters {'lr': 0.003588, 'momentum': 0.823882} using model BoTorch.\n",
      "[INFO 06-17 13:20:32] ax.service.ax_client: Completed trial 48 with data: {'evaluate_func': (0.643718, None)}.\n"
     ]
    },
    {
     "name": "stdout",
     "output_type": "stream",
     "text": [
      "parameter num 1 is parameter lr with value 0.0035877254995010585\n",
      "parameter num 2 is parameter momentum with value 0.8238822975082246\n",
      "Evaluation is 0.6437176906326892\n"
     ]
    },
    {
     "name": "stderr",
     "output_type": "stream",
     "text": [
      "[INFO 06-17 13:20:33] ax.service.ax_client: Generated new trial 49 with parameters {'lr': 8e-06, 'momentum': 0.311381} using model BoTorch.\n",
      "[INFO 06-17 13:20:33] ax.service.ax_client: Completed trial 49 with data: {'evaluate_func': (0.854964, None)}.\n"
     ]
    },
    {
     "name": "stdout",
     "output_type": "stream",
     "text": [
      "parameter num 1 is parameter lr with value 7.802758139914328e-06\n",
      "parameter num 2 is parameter momentum with value 0.31138081100815496\n",
      "Evaluation is 0.8549642323989464\n"
     ]
    },
    {
     "name": "stderr",
     "output_type": "stream",
     "text": [
      "[WARNING 06-17 13:20:34] ax.modelbridge.cross_validation: Metric evaluate_func was unable to be reliably fit.\n",
      "[WARNING 06-17 13:20:34] ax.service.utils.best_point: Model fit is poor; falling back on raw data for best point.\n",
      "[WARNING 06-17 13:20:34] ax.service.utils.best_point: Model fit is poor and data on objective metric evaluate_func is noisy; interpret best points results carefully.\n"
     ]
    }
   ],
   "source": [
    "# Baseline trial with \"good\" parameters\n",
    "# TODO\n",
    "# Example:\n",
    "# ax_client.attach_trial(\n",
    "#     parameters={\"lr\": 0.000026, \"momentum\": 0.58}\n",
    "# )\n",
    "# baseline_parameters = ax_client.get_trial_parameters(trial_index=0)\n",
    "# ax_client.complete_trial(trial_index=0, raw_data=evaluate_solver(baseline_parameters))\n",
    "\n",
    "\n",
    "# Full set of trials\n",
    "num_trials = 25\n",
    "for i in range(num_trials):\n",
    "    parameters, trial_index = ax_client.get_next_trial()\n",
    "    ax_client.complete_trial(trial_index=trial_index, raw_data=evaluate_func(parameters))\n",
    "\n",
    "best_parameters, metrics = ax_client.get_best_parameters()"
   ]
  },
  {
   "cell_type": "code",
   "execution_count": 35,
   "metadata": {},
   "outputs": [
    {
     "name": "stdout",
     "output_type": "stream",
     "text": [
      "Best parameters:\n",
      " {'lr': 0.0011805525366301143, 'momentum': 0.822153841140202}\n",
      "Metrics:\n",
      " ({'evaluate_func': 0.0026425320697636145}, {'evaluate_func': {'evaluate_func': nan}})\n"
     ]
    }
   ],
   "source": [
    "print(\"Best parameters:\\n {}\".format(best_parameters))\n",
    "print(\"Metrics:\\n {}\".format(metrics))\n",
    "# best_parameters"
   ]
  },
  {
   "cell_type": "code",
   "execution_count": null,
   "metadata": {},
   "outputs": [],
   "source": []
  }
 ],
 "metadata": {
  "kernelspec": {
   "display_name": "Python 3 (ipykernel)",
   "language": "python",
   "name": "python3"
  },
  "language_info": {
   "codemirror_mode": {
    "name": "ipython",
    "version": 3
   },
   "file_extension": ".py",
   "mimetype": "text/x-python",
   "name": "python",
   "nbconvert_exporter": "python",
   "pygments_lexer": "ipython3",
   "version": "3.10.12"
  }
 },
 "nbformat": 4,
 "nbformat_minor": 2
}
