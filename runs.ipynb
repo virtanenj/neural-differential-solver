{
 "cells": [
  {
   "cell_type": "code",
   "execution_count": 1,
   "metadata": {},
   "outputs": [],
   "source": [
    "import numpy as np\n",
    "import matplotlib.pyplot as plt\n",
    "import torch\n",
    "import solver"
   ]
  },
  {
   "cell_type": "code",
   "execution_count": null,
   "metadata": {},
   "outputs": [],
   "source": [
    "def differential_expression(f, x):\n",
    "    f_prime = solver.calcGradients(f, x, 1)\n",
    "    return f_prime - x - 1\n",
    "\n",
    "def bc_function(x):\n",
    "    return 0.0\n",
    "\n",
    "bc_xs = [0.0]\n",
    "bc_functions = [bc_function]\n",
    "bc_ps = [0]\n",
    "\n",
    "loss_fn = solver.LossFunction(differential_expression, bc_xs, bc_functions, bc_ps)\n",
    "\n",
    "x_min = 0.0\n",
    "x_max = 1.0\n",
    "x_num = 200\n",
    "x = np.linspace(x_min, x_max, x_num)\n",
    "domain = [[x_min, x_max]]\n",
    "dataloader = solver.genDataLoader(domain, num_points=x_num)\n",
    "\n",
    "\n"
   ]
  }
 ],
 "metadata": {
  "kernelspec": {
   "display_name": "Python 3",
   "language": "python",
   "name": "python3"
  },
  "language_info": {
   "codemirror_mode": {
    "name": "ipython",
    "version": 3
   },
   "file_extension": ".py",
   "mimetype": "text/x-python",
   "name": "python",
   "nbconvert_exporter": "python",
   "pygments_lexer": "ipython3",
   "version": "3.10.12"
  }
 },
 "nbformat": 4,
 "nbformat_minor": 2
}
