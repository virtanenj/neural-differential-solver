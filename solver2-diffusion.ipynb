{
 "cells": [
  {
   "cell_type": "markdown",
   "metadata": {},
   "source": [
    "Consider diffusion equation \n",
    "$$\n",
    "\\partial_t u(t,x) = D \\partial_x^2 u(t,x)\n",
    "$$ \n",
    "defined on $t \\in [0,\\infty)$ and $x \\in [0,1]$ with initial and boundary conditions\n",
    "$$\n",
    "u(0,x) = \\sin(2 x)^4 + 1/20 \\\\\n",
    "u(t,0) = 1/5 \\\\\n",
    "u(t,1) = 0\n",
    "$$\n",
    "Also the diffusion constant is set to $D = 0.02$. This has analytic series solution\n",
    "$$\n",
    "u(t,x) = \\frac{1}{5} - \\frac{x}{5} +\n",
    "\\underset{n=1}{\\overset{\\infty }{\\sum }}\\frac{e^{-D \\pi ^2 t n^2} \\left(-\\pi ^4 \\left(3+(-1)^{n}+20 (-1)^{n} \\sin ^4(2)\\right) n^4+40 \\pi ^2 \\left(6+17\n",
    "   (-1)^{n}-16 (-1)^{n} \\cos (4)+(-1)^{n} \\cos (8)\\right) n^2+512 \\left(9-17 (-1)^{n}\\right)\\right) \\sin (\\pi  x n)}{10 \\pi  n \\left(\\pi ^4\n",
    "   n^4-80 \\pi ^2 n^2+1024\\right)} \\\\\n",
    "=: \\frac{1}{5} - \\frac{x}{5} + \\sum_{n=1}^\\infty u_n(t,x)\n",
    "$$\n"
   ]
  },
  {
   "cell_type": "markdown",
   "metadata": {},
   "source": [
    "# Drift diffusion example\n",
    "$$\n",
    "\\partial_t u(t,x) = D \\partial_x^2 u(t,x) - v \\partial_x u(t,x)\n",
    "$$\n",
    "on $(t,x) \\in [0,\\infty) \\times [0,L]$ with boundary conditions\n",
    "$$\n",
    "u(0,t) = 0, \\quad u(L,t) = 0, \\quad u(x,0) = f(x)\n",
    "$$\n",
    "where\n",
    "$$\n",
    "f(x) = 2 \\exp(-(x-5)^2/(2 1.1^2))\n",
    "$$\n",
    "$$\n",
    "f(x) = a \\exp(-(x-b)^2/(2c^2))\n",
    "$$\n",
    "is a Gaussian bump (initial distribution) where now\n",
    "$$\n",
    "a = 2, \\quad b = 5, \\quad c = 11/10 = 1.1\n",
    "$$\n",
    "For edxample think of heat distributed on a rod."
   ]
  },
  {
   "cell_type": "code",
   "execution_count": null,
   "metadata": {},
   "outputs": [],
   "source": [
    "import numpy as np\n",
    "import matplotlib.pyplot as plt\n",
    "import torch\n",
    "import torch.autograd as autograd\n",
    "import solver2 as solver\n",
    "\n",
    "def differential(x, f):\n",
    "    x = x.requires_grad_(True)\n",
    "    x1 = x[:,0].reshape(-1,1) # time\n",
    "    x2 = x[:,1].reshape(-1,1) # position\n",
    "    # ...\n",
    "    pass\n",
    "\n",
    "def ic(x, f):\n",
    "    # u(0,x) = sin(2x)^4 + 1/20\n",
    "    x = x.requires_grad_(True)\n",
    "    x2 = x[:,1].reshape(-1,1) # position\n",
    "    fx = f(x)\n",
    "    return fx - torch.sin(2*x2)**4 - 0.05\n",
    "\n",
    "def bc1(x, f):\n",
    "    # u(t,0) = 1/5\n",
    "    x = x.requires_grad_(True)\n",
    "    x1 = x[:,0].reshape(-1,1) # time\n",
    "    fx = f(x)\n",
    "    return fx - 0.2\n",
    "\n",
    "def bc2(x, f):\n",
    "    # u(t,1) = 0\n",
    "    x = x.requires_grad_(True)\n",
    "    fx = f(x)\n",
    "    return fx\n",
    "\n",
    "tmin = 0\n",
    "tmax = 10 # up to infinity\n",
    "xmin = 0\n",
    "xmax = 1\n",
    "\n",
    "# Define the grid (time, position)\n",
    "num_points = 20 # per dimension\n",
    "# ..."
   ]
  },
  {
   "cell_type": "code",
   "execution_count": null,
   "metadata": {},
   "outputs": [],
   "source": []
  }
 ],
 "metadata": {
  "kernelspec": {
   "display_name": "deeplearn",
   "language": "python",
   "name": "python3"
  },
  "language_info": {
   "codemirror_mode": {
    "name": "ipython",
    "version": 3
   },
   "file_extension": ".py",
   "mimetype": "text/x-python",
   "name": "python",
   "nbconvert_exporter": "python",
   "pygments_lexer": "ipython3",
   "version": "3.10.14"
  }
 },
 "nbformat": 4,
 "nbformat_minor": 2
}
